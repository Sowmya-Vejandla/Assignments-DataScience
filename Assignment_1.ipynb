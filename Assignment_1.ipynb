{
 "cells": [
  {
   "cell_type": "markdown",
   "id": "363934cb",
   "metadata": {},
   "source": [
    "1. Values are hello, -87.8, 6\n",
    "   Expressions are /, +, -, *\n",
    "    \n",
    "2. A String is a data or information that stored in the variable whereas variable is a name that can store any type of data    in it.\n",
    "\n",
    "3. The three different data types are \n",
    "   (i)Integers\n",
    "   (ii)Float\n",
    "   (iii)String\n",
    "   \n",
    "   (i)Integers is a value or number that can either be positive value or negative value and Zero(0). Integers are whole numbers       and not a fractional number.\n",
    "      Example: 1, -13, 0\n",
    "   (ii)Float is a fractional number that can be either positive value or negative value.\n",
    "       Example: 13.05, -13.05\n",
    "   (iii) String is a data structue that can be either a numerical or alpha value or alphanumeric value that enclosed in \" \" or            ' ' \n",
    "        Example: \"13\", '13', 'python', \"python\", 'ineuron', 'ineuron13'\n",
    " \n",
    "4. An expression is a set of operators and operands that together generate a different value after interpreted by python i.e,      gives an new value\n",
    "5. Here given spam =10 #statement whereas if we need to add a new value or add something or use any expression then it will be a    exression.\n",
    "   Example: spam =10 #statement\n",
    "            spam = spam+20 #expression"
   ]
  },
  {
   "cell_type": "code",
   "execution_count": 1,
   "id": "c37ec67b",
   "metadata": {},
   "outputs": [
    {
     "name": "stdout",
     "output_type": "stream",
     "text": [
      "30\n"
     ]
    }
   ],
   "source": [
    "5. #Example for knowing the difference beween \"statement\" and \"expression\"\n",
    "spam = 10 #statement i.e, either we assigned or given value\n",
    "spam = spam+20 #expression\n",
    "#after printing the above line, we gets a new value which is going to assign permanently in spam=10\n",
    "print(spam)\n"
   ]
  },
  {
   "cell_type": "code",
   "execution_count": 2,
   "id": "5513ff0e",
   "metadata": {},
   "outputs": [
    {
     "name": "stdout",
     "output_type": "stream",
     "text": [
      "22\n"
     ]
    }
   ],
   "source": [
    "6. #bacon varable after executing remains unchanged\n",
    "\"\"\"bacon=22\n",
    "bacon+1\n",
    "Here bacon value remains same. (bacon+1) is evaluated but the result is not assigned to 'bacon'. So the bacon value remains unchanged\"\"\"\n",
    "bacon =22\n",
    "bacon+1\n",
    "print(bacon)"
   ]
  },
  {
   "cell_type": "code",
   "execution_count": 4,
   "id": "8dcc6148",
   "metadata": {},
   "outputs": [
    {
     "data": {
      "text/plain": [
       "'spamspamspam'"
      ]
     },
     "execution_count": 4,
     "metadata": {},
     "output_type": "execute_result"
    }
   ],
   "source": [
    "7.#results is same but the operator we used is different.\n",
    "\"\"\"Here in first line we used + operator which used to concatenate two strings so the result is 'spamspamspam' whereas in second line ('spam'*3) the operator is '*', so it multipled 'spam' three times resulting both lines gives same string 'spamspamspam'\"\"\"\n",
    "'spam'+'spamspam'\n",
    "\n"
   ]
  },
  {
   "cell_type": "code",
   "execution_count": 7,
   "id": "390619bc",
   "metadata": {},
   "outputs": [
    {
     "data": {
      "text/plain": [
       "'spamspamspam'"
      ]
     },
     "execution_count": 7,
     "metadata": {},
     "output_type": "execute_result"
    }
   ],
   "source": [
    "7. #continuation\n",
    "'spam'*3"
   ]
  },
  {
   "cell_type": "markdown",
   "id": "1fdbe989",
   "metadata": {},
   "source": [
    "8. In Python,\n",
    "   (i) Intendations can be either alphabtets/letters(A-Z/a-z) or digits(0-9) or underscore(_).\n",
    "   (ii).Intendation can starts with either (A-Z/a-z) or underscore( _ ) not with digits(0-9).\n",
    "   (iii).So the eggs is valid variable because it starts with letter whereas 100 is invalid becaue it starts with number.\n",
    "9. The three functions can be used to get intergers, float and string version of a value are int, float, str.   "
   ]
  },
  {
   "cell_type": "code",
   "execution_count": 8,
   "id": "1b65b134",
   "metadata": {},
   "outputs": [
    {
     "data": {
      "text/plain": [
       "'I have eaten 99 burritos'"
      ]
     },
     "execution_count": 8,
     "metadata": {},
     "output_type": "execute_result"
    }
   ],
   "source": [
    "10.\n",
    "\"\"\"\n",
    "   'I have eaten'+99+'burritos.'\n",
    "   This expression cause an error because a string can concatenate with another string but not with integer.\n",
    "   To fix, it can be written as \n",
    "\"\"\"\n",
    "'I have eaten'+' 99 '+'burritos'\n"
   ]
  },
  {
   "cell_type": "code",
   "execution_count": null,
   "id": "102cd9ff",
   "metadata": {},
   "outputs": [],
   "source": []
  }
 ],
 "metadata": {
  "kernelspec": {
   "display_name": "Python 3 (ipykernel)",
   "language": "python",
   "name": "python3"
  },
  "language_info": {
   "codemirror_mode": {
    "name": "ipython",
    "version": 3
   },
   "file_extension": ".py",
   "mimetype": "text/x-python",
   "name": "python",
   "nbconvert_exporter": "python",
   "pygments_lexer": "ipython3",
   "version": "3.10.9"
  }
 },
 "nbformat": 4,
 "nbformat_minor": 5
}
